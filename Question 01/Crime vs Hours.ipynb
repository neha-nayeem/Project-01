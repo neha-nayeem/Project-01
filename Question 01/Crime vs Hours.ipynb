{
 "cells": [
  {
   "cell_type": "code",
   "execution_count": 1,
   "metadata": {},
   "outputs": [],
   "source": [
    "import pandas as pd\n",
    "import matplotlib.pyplot as plt"
   ]
  },
  {
   "cell_type": "code",
   "execution_count": 2,
   "metadata": {},
   "outputs": [
    {
     "data": {
      "text/html": [
       "<div>\n",
       "<style scoped>\n",
       "    .dataframe tbody tr th:only-of-type {\n",
       "        vertical-align: middle;\n",
       "    }\n",
       "\n",
       "    .dataframe tbody tr th {\n",
       "        vertical-align: top;\n",
       "    }\n",
       "\n",
       "    .dataframe thead th {\n",
       "        text-align: right;\n",
       "    }\n",
       "</style>\n",
       "<table border=\"1\" class=\"dataframe\">\n",
       "  <thead>\n",
       "    <tr style=\"text-align: right;\">\n",
       "      <th></th>\n",
       "      <th>Unnamed: 0</th>\n",
       "      <th>event_unique_id</th>\n",
       "      <th>premisetype</th>\n",
       "      <th>ucr_code</th>\n",
       "      <th>ucr_ext</th>\n",
       "      <th>offence</th>\n",
       "      <th>reportedyear</th>\n",
       "      <th>reportedmonth</th>\n",
       "      <th>reportedday</th>\n",
       "      <th>reporteddayofyear</th>\n",
       "      <th>...</th>\n",
       "      <th>occurrenceday</th>\n",
       "      <th>occurrencedayofyear</th>\n",
       "      <th>occurrencedayofweek</th>\n",
       "      <th>occurrencehour</th>\n",
       "      <th>MCI</th>\n",
       "      <th>Division</th>\n",
       "      <th>Hood_ID</th>\n",
       "      <th>Neighbourhood</th>\n",
       "      <th>Long</th>\n",
       "      <th>Lat</th>\n",
       "    </tr>\n",
       "  </thead>\n",
       "  <tbody>\n",
       "    <tr>\n",
       "      <th>0</th>\n",
       "      <td>0</td>\n",
       "      <td>GO-20141756319</td>\n",
       "      <td>Commercial</td>\n",
       "      <td>1430.0</td>\n",
       "      <td>100.0</td>\n",
       "      <td>Assault</td>\n",
       "      <td>2014.0</td>\n",
       "      <td>March</td>\n",
       "      <td>24.0</td>\n",
       "      <td>83.0</td>\n",
       "      <td>...</td>\n",
       "      <td>24.0</td>\n",
       "      <td>83.0</td>\n",
       "      <td>Monday</td>\n",
       "      <td>1.0</td>\n",
       "      <td>Assault</td>\n",
       "      <td>D42</td>\n",
       "      <td>132</td>\n",
       "      <td>Malvern (132)</td>\n",
       "      <td>-79.199081</td>\n",
       "      <td>43.800281</td>\n",
       "    </tr>\n",
       "  </tbody>\n",
       "</table>\n",
       "<p>1 rows × 24 columns</p>\n",
       "</div>"
      ],
      "text/plain": [
       "   Unnamed: 0 event_unique_id premisetype  ucr_code  ucr_ext  offence  \\\n",
       "0           0  GO-20141756319  Commercial    1430.0    100.0  Assault   \n",
       "\n",
       "   reportedyear reportedmonth  reportedday  reporteddayofyear  ...  \\\n",
       "0        2014.0         March         24.0               83.0  ...   \n",
       "\n",
       "  occurrenceday  occurrencedayofyear  occurrencedayofweek occurrencehour  \\\n",
       "0          24.0                 83.0           Monday                1.0   \n",
       "\n",
       "       MCI  Division Hood_ID  Neighbourhood       Long        Lat  \n",
       "0  Assault       D42     132  Malvern (132) -79.199081  43.800281  \n",
       "\n",
       "[1 rows x 24 columns]"
      ]
     },
     "execution_count": 2,
     "metadata": {},
     "output_type": "execute_result"
    }
   ],
   "source": [
    "file1=\"Data Output/Toronto_Crimes_Occurred_2014_2019.csv\"\n",
    "crime_2014_2019=pd.read_csv(file1)\n",
    "crime_2014_2019.head(1)"
   ]
  },
  {
   "cell_type": "code",
   "execution_count": 4,
   "metadata": {},
   "outputs": [
    {
     "data": {
      "text/plain": [
       "dtype('float64')"
      ]
     },
     "execution_count": 4,
     "metadata": {},
     "output_type": "execute_result"
    }
   ],
   "source": [
    "crime_2014_2019[\"occurrencehour\"].dtypes"
   ]
  },
  {
   "cell_type": "code",
   "execution_count": 12,
   "metadata": {},
   "outputs": [],
   "source": [
    "# Define a function to get the average number of cases on each hour\n",
    "def hourly_num(df,mci_type,hours):\n",
    "    num_crime=[]\n",
    "    mci_df=df.loc[df[\"MCI\"]==mci_type,:]\n",
    "    for hour in hours:\n",
    "        new_mci=mci_df.loc[mci_df[\"occurrencehour\"]==hour,:]\n",
    "        num_crime.append(len(new_mci[\"MCI\"])/6)\n",
    "    return num_crime"
   ]
  },
  {
   "cell_type": "code",
   "execution_count": 13,
   "metadata": {},
   "outputs": [
    {
     "name": "stderr",
     "output_type": "stream",
     "text": [
      "No handles with labels found to put in legend.\n"
     ]
    },
    {
     "data": {
      "image/png": "[encoded data removed]",
      "text/plain": [
       "<Figure size 432x288 with 1 Axes>"
      ]
     },
     "metadata": {
      "needs_background": "light"
     },
     "output_type": "display_data"
    }
   ],
   "source": [
    "hours=[6,7,8,9,10,11,12,13,14,15,16,17,18,19,20,21,22,23,0,1,2,3,4,5]\n",
    "break_and_enter=hourly_num(crime_2014_2019,\"Break and Enter\",hours)\n",
    "auto_theft=hourly_num(crime_2014_2019,\"Auto Theft\",hours)\n",
    "robbery=hourly_num(crime_2014_2019,\"Robbery\",hours)\n",
    "assault=hourly_num(crime_2014_2019,\"Assault\",hours)\n",
    "x=[\"6\",\"7\",\"8\",\"9\",\"10\",\"11\",\"12\",\"13\",\"14\",\"15\",\"16\",\"17\",\"18\",\"19\",\"20\",\"21\",\"22\",\"23\",\"0\",\"1\",\"2\",\"3\",\"4\",\"5\"]\n",
    "plt.plot(x,break_and_enter,color=\"red\")\n",
    "plt.plot(x,auto_theft,color=\"green\")\n",
    "plt.plot(x,robbery,color=\"black\")\n",
    "plt.plot(x,assault,color=\"blue\")\n",
    "plt.xlabel(\"Time(Hour)\")\n",
    "plt.ylabel(\"Number of Crime Occurred\")\n",
    "plt.title(\"Crime of Toronto by Hours (Average of 2014~2019)\")\n",
    "plt.legend()\n",
    "plt.show()"
   ]
  },
  {
   "cell_type": "code",
   "execution_count": null,
   "metadata": {},
   "outputs": [],
   "source": []
  }
 ],
 "metadata": {
  "kernelspec": {
   "display_name": "Python 3",
   "language": "python",
   "name": "python3"
  },
  "language_info": {
   "codemirror_mode": {
    "name": "ipython",
    "version": 3
   },
   "file_extension": ".py",
   "mimetype": "text/x-python",
   "name": "python",
   "nbconvert_exporter": "python",
   "pygments_lexer": "ipython3",
   "version": "3.7.6"
  }
 },
 "nbformat": 4,
 "nbformat_minor": 4
}
